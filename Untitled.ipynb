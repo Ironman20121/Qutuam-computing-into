{
 "cells": [
  {
   "cell_type": "code",
   "execution_count": 2,
   "id": "6dfec466-6259-4f26-832b-07242501028e",
   "metadata": {},
   "outputs": [],
   "source": [
    "from qiskit import QuantumCircuit\n",
    "from qiskit.quantum_info import SparsePauliOp\n",
    "from qiskit.transpiler.preset_passmanagers import generate_preset_pass_manager\n",
    "from qiskit_ibm_runtime import EstimatorV2 as Estimator"
   ]
  },
  {
   "cell_type": "markdown",
   "id": "40ae32b3-7da8-4b5e-b7db-bec7cdffc20d",
   "metadata": {},
   "source": [
    "### Step 1 : Creating Circute "
   ]
  },
  {
   "cell_type": "code",
   "execution_count": 47,
   "id": "3b5d38c9-2ae1-4a7d-91d3-c28a0b79a7cd",
   "metadata": {},
   "outputs": [
    {
     "data": {
      "image/png": "[encoded data removed]",
      "text/plain": [
       "<Figure size 161.878x284.278 with 1 Axes>"
      ]
     },
     "execution_count": 47,
     "metadata": {},
     "output_type": "execute_result"
    }
   ],
   "source": [
    "qc = QuantumCircuit(2,2)\n",
    "qc.draw(\"mpl\")"
   ]
  },
  {
   "cell_type": "markdown",
   "id": "f8ba4dd2-a6db-4add-bc12-abf2322899e5",
   "metadata": {},
   "source": [
    "Here we are initilzing with hadamard gate "
   ]
  },
  {
   "cell_type": "code",
   "execution_count": 48,
   "id": "fdf55107-4593-4d44-bada-90307ca0d590",
   "metadata": {},
   "outputs": [
    {
     "data": {
      "image/png": "[encoded data removed]",
      "text/plain": [
       "<Figure size 203.683x284.278 with 1 Axes>"
      ]
     },
     "execution_count": 48,
     "metadata": {},
     "output_type": "execute_result"
    }
   ],
   "source": [
    "qc.x(0)\n",
    "qc.draw(\"mpl\")"
   ]
  },
  {
   "cell_type": "code",
   "execution_count": 50,
   "id": "b922e122-8855-4bc3-b1e5-b85412abc667",
   "metadata": {},
   "outputs": [
    {
     "data": {
      "image/png": "[encoded data removed]",
      "text/plain": [
       "<Figure size 538.128x284.278 with 1 Axes>"
      ]
     },
     "execution_count": 50,
     "metadata": {},
     "output_type": "execute_result"
    }
   ],
   "source": [
    "# Perform a controlled-X gate on qubit 1, controlled by qubit 0\n",
    "qc.cx(0, 1)\n",
    "qc.measure([0,1],[1,0])\n",
    "qc.draw(\"mpl\")"
   ]
  },
  {
   "cell_type": "code",
   "execution_count": null,
   "id": "d6d6d773-472c-418c-850f-9d12e9125b32",
   "metadata": {},
   "outputs": [],
   "source": [
    " "
   ]
  },
  {
   "cell_type": "code",
   "execution_count": 38,
   "id": "66aaf533-0a27-4929-9312-7a09e5f8e0eb",
   "metadata": {},
   "outputs": [],
   "source": [
    "from qiskit_ibm_runtime import QiskitRuntimeService\n",
    "service = QiskitRuntimeService(channel=\"ibm_quantum\",token=open(\"token.txt\",\"r\").read()[:-1])"
   ]
  },
  {
   "cell_type": "code",
   "execution_count": 39,
   "id": "0e31f4a8-bb8c-4e17-aeff-9474bd9cf4bc",
   "metadata": {},
   "outputs": [
    {
     "name": "stdout",
     "output_type": "stream",
     "text": [
      "<IBMBackend('ibm_brisbane')>\n",
      "<IBMBackend('ibm_kyiv')>\n",
      "<IBMBackend('ibm_sherbrooke')>\n"
     ]
    }
   ],
   "source": [
    "for i in service.backends():\n",
    "    print(i)\n",
    "    qbit_count = len(i."
   ]
  },
  {
   "cell_type": "code",
   "execution_count": 44,
   "id": "5082c82a-f0f7-4672-b6e0-27e76e43aaa4",
   "metadata": {},
   "outputs": [
    {
     "name": "stdout",
     "output_type": "stream",
     "text": [
      "[]\n",
      "[]\n",
      "[]\n"
     ]
    }
   ],
   "source": []
  },
  {
   "cell_type": "code",
   "execution_count": null,
   "id": "2368c42b-e8bc-4f1e-9d80-4c1c859a5dd1",
   "metadata": {},
   "outputs": [],
   "source": []
  }
 ],
 "metadata": {
  "kernelspec": {
   "display_name": "Python 3 (ipykernel)",
   "language": "python",
   "name": "python3"
  },
  "language_info": {
   "codemirror_mode": {
    "name": "ipython",
    "version": 3
   },
   "file_extension": ".py",
   "mimetype": "text/x-python",
   "name": "python",
   "nbconvert_exporter": "python",
   "pygments_lexer": "ipython3",
   "version": "3.12.4"
  }
 },
 "nbformat": 4,
 "nbformat_minor": 5
}
